{
 "cells": [
  {
   "cell_type": "markdown",
   "id": "c046537e",
   "metadata": {},
   "source": [
    "# Data Science Tools and Ecosystem"
   ]
  },
  {
   "cell_type": "markdown",
   "id": "6cfe865a",
   "metadata": {},
   "source": [
    "# In this notebook, Data Science Tools and Ecosystem are summarized."
   ]
  },
  {
   "cell_type": "markdown",
   "id": "a795ab65",
   "metadata": {},
   "source": [
    "**Objectives:**\n",
    "\n",
    "- Python is used in this note book\n",
    "- Basic Operation without need of any prior knowledge\n",
    "- Begineer Friendly"
   ]
  },
  {
   "cell_type": "markdown",
   "id": "b907d110",
   "metadata": {},
   "source": [
    "## Author\n",
    "\n",
    "Shubham \n"
   ]
  },
  {
   "cell_type": "markdown",
   "id": "fe599cd2",
   "metadata": {},
   "source": [
    "# Some of the popular languages that Data Scientists use are:\n",
    "\n",
    "1. Python\n",
    "2. R\n",
    "3. Julia\n",
    "4. Scala\n"
   ]
  },
  {
   "cell_type": "markdown",
   "id": "877cef8f",
   "metadata": {},
   "source": [
    "# Some of the commonly used libraries used by Data Scientists include:\n",
    "\n",
    "1. NumPy\n",
    "2. Pandas\n",
    "3. Dask\n",
    "4. Vaex\n",
    "5. Matplotlib\n",
    "6. Seaborn\n",
    "7. Plotty"
   ]
  },
  {
   "cell_type": "markdown",
   "id": "297b06dc",
   "metadata": {},
   "source": [
    "# Data Science Tools:\n",
    "\n",
    "|Data Science Tools|\n",
    "|------------------|\n",
    "|Apache Spark|\n",
    "|Jupter Notebook|\n",
    "|Power BI|\n",
    "|Tableau|\n",
    "|Python|"
   ]
  },
  {
   "cell_type": "markdown",
   "id": "c49820d3",
   "metadata": {},
   "source": [
    "### Below are a few examples of evaluating arithmetic expressions in Python"
   ]
  },
  {
   "cell_type": "code",
   "execution_count": 2,
   "id": "a7a0e014",
   "metadata": {},
   "outputs": [
    {
     "data": {
      "text/plain": [
       "17"
      ]
     },
     "execution_count": 2,
     "metadata": {},
     "output_type": "execute_result"
    }
   ],
   "source": [
    "# This a simple arithmetic expression to mutiply then add integers\n",
    "(3*4)+5"
   ]
  },
  {
   "cell_type": "code",
   "execution_count": 3,
   "id": "32668805",
   "metadata": {},
   "outputs": [
    {
     "data": {
      "text/plain": [
       "3.3333333333333335"
      ]
     },
     "execution_count": 3,
     "metadata": {},
     "output_type": "execute_result"
    }
   ],
   "source": [
    "# This will convert 200 minutes to hours by diving by 60\n",
    "200 / 60"
   ]
  }
 ],
 "metadata": {
  "kernelspec": {
   "display_name": "Python 3 (ipykernel)",
   "language": "python",
   "name": "python3"
  },
  "language_info": {
   "codemirror_mode": {
    "name": "ipython",
    "version": 3
   },
   "file_extension": ".py",
   "mimetype": "text/x-python",
   "name": "python",
   "nbconvert_exporter": "python",
   "pygments_lexer": "ipython3",
   "version": "3.11.5"
  }
 },
 "nbformat": 4,
 "nbformat_minor": 5
}
